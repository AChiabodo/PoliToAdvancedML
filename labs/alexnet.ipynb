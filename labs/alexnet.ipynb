{
 "cells": [
  {
   "cell_type": "code",
   "execution_count": null,
   "metadata": {
    "collapsed": false,
    "pycharm": {
     "name": "#%%\n"
    }
   },
   "outputs": [],
   "source": [
    "!nvidia-smi"
   ]
  },
  {
   "cell_type": "code",
   "execution_count": null,
   "id": "55dec686814f6458",
   "metadata": {
    "ExecuteTime": {
     "end_time": "2023-11-01T10:31:12.695740Z",
     "start_time": "2023-11-01T10:31:12.670150Z"
    },
    "collapsed": false,
    "pycharm": {
     "is_executing": true
    }
   },
   "outputs": [],
   "source": [
    "import os\n",
    "import logging\n",
    "\n",
    "import torch\n",
    "import torch.nn as nn\n",
    "import torch.optim as optim\n",
    "from torch.utils.data import Subset, DataLoader\n",
    "from torch.backends import cudnn\n",
    "\n",
    "import torchvision\n",
    "from torchvision import transforms\n",
    "from torchvision.models import alexnet\n",
    "\n",
    "from PIL import Image\n",
    "from tqdm import tqdm"
   ]
  },
  {
   "cell_type": "markdown",
   "id": "5b935b6990ea7725",
   "metadata": {
    "collapsed": false
   },
   "source": [
    "**Set Arguments**"
   ]
  },
  {
   "cell_type": "code",
   "execution_count": null,
   "id": "499cfb98f99bb5f",
   "metadata": {
    "ExecuteTime": {
     "end_time": "2023-11-01T10:31:12.704406Z",
     "start_time": "2023-11-01T10:31:12.675431Z"
    },
    "collapsed": false
   },
   "outputs": [],
   "source": [
    "DEVICE = 'cuda' # 'cuda' or 'cpu'\n",
    "\n",
    "NUM_CLASSES = 102 # 101 + 1: There is am extra Background class that should be removed\n",
    "\n",
    "BATCH_SIZE = 256     # Higher batch sizes allows for larger learning rates. An empirical heuristic suggests that, when changing\n",
    "                     # the batch size, learning rate should change by the same factor to have comparable results # default 256\n",
    "\n",
    "LR = 1e-3            # The initial Learning Rate # default 1e-3\n",
    "MOMENTUM = 0.9       # Hyperparameter for SGD, keep this at 0.9 when using SGD\n",
    "WEIGHT_DECAY = 5e-5  # Regularization, you can keep this at the default\n",
    "\n",
    "NUM_EPOCHS = 30      # Total number of training epochs (iterations over dataset)\n",
    "STEP_SIZE = 20       # How many epochs before decreasing learning rate (if using a step-down policy)\n",
    "GAMMA = 0.1          # Multiplicative factor for learning rate step-down\n",
    "\n",
    "LOG_FREQUENCY = 10"
   ]
  },
  {
   "cell_type": "code",
   "execution_count": null,
   "id": "ff51845f",
   "metadata": {},
   "outputs": [],
   "source": [
    "torch.cuda.is_available()"
   ]
  },
  {
   "cell_type": "markdown",
   "id": "3b5a8be763e5c2f",
   "metadata": {
    "collapsed": false
   },
   "source": [
    "**Define Data Preprocessing**"
   ]
  },
  {
   "cell_type": "code",
   "execution_count": null,
   "id": "4b82fc9cabb836c4",
   "metadata": {
    "ExecuteTime": {
     "end_time": "2023-11-01T10:31:12.722017Z",
     "start_time": "2023-11-01T10:31:12.681431Z"
    },
    "collapsed": false
   },
   "outputs": [],
   "source": [
    "# Define transforms for training phase\n",
    "train_transform = transforms.Compose([transforms.Resize(256),      # Resizes short size of the PIL image to 256\n",
    "                                      transforms.CenterCrop(224),  # Crops a central square patch of the image\n",
    "                                                                   # 224 because torchvision's AlexNet needs a 224x224 input!\n",
    "                                                                   # Remember this when applying different transformations, otherwise you get an error\n",
    "                                      transforms.ToTensor(), # Turn PIL Image to torch.Tensor\n",
    "                                      transforms.Normalize((0.5, 0.5, 0.5), (0.5, 0.5, 0.5)) # Normalizes tensor with mean and standard deviation\n",
    "])\n",
    "# Define transforms for the evaluation phase\n",
    "eval_transform = transforms.Compose([transforms.Resize(256),\n",
    "                                      transforms.CenterCrop(224),\n",
    "                                      transforms.ToTensor(),\n",
    "                                      transforms.Normalize((0.5, 0.5, 0.5), (0.5, 0.5, 0.5))\n",
    "])"
   ]
  },
  {
   "cell_type": "markdown",
   "id": "fd287085601da699",
   "metadata": {
    "collapsed": false
   },
   "source": [
    "**Prepare Dataset**"
   ]
  },
  {
   "cell_type": "code",
   "execution_count": null,
   "id": "3b9c33d28a8456f8",
   "metadata": {
    "ExecuteTime": {
     "end_time": "2023-11-01T10:31:12.723254Z",
     "start_time": "2023-11-01T10:31:12.690432Z"
    },
    "collapsed": false
   },
   "outputs": [],
   "source": [
    "from torchvision.datasets import VisionDataset\n",
    "\n",
    "from PIL import Image\n",
    "\n",
    "import os\n",
    "import os.path\n",
    "import sys\n",
    "\n",
    "\n",
    "def pil_loader(path):\n",
    "    # open path as file to avoid ResourceWarning (https://github.com/python-pillow/Pillow/issues/835)\n",
    "    with open(path, 'rb') as f:\n",
    "        img = Image.open(f)\n",
    "        return img.convert('RGB')\n",
    "\n",
    "\n",
    "class Caltech(VisionDataset):\n",
    "    def __init__(self, root, split='train', transform=None, target_transform=None):\n",
    "        super(Caltech, self).__init__(root, transform=transform, target_transform=target_transform)\n",
    "        \n",
    "        if split != 'train' and split != 'test':\n",
    "            return\n",
    "        \n",
    "        self.split = split # This defines the split you are going to use\n",
    "                           # (split files are called 'train.txt' and 'test.txt')\n",
    "        \n",
    "        data = []\n",
    "        labels_dict = {}\n",
    "        label_index = 0\n",
    "        with open(f\"Caltech101/{split}.txt\", 'r') as f:\n",
    "            for line in f:\n",
    "                path = line.replace(\"\\n\", \"\").strip()\n",
    "                label = path.split(\"/\")[0]\n",
    "                \n",
    "                if label not in labels_dict:\n",
    "                    labels_dict[label] = label_index\n",
    "                    label_index += 1\n",
    "                    \n",
    "                data.append(line.replace(\"\\n\", \"\").strip())\n",
    "        \n",
    "        self.data = data\n",
    "        self.labels_dict = labels_dict\n",
    "\n",
    "        '''\n",
    "        - Here you should implement the logic for reading the splits files and accessing elements\n",
    "        - If the RAM size allows it, it is faster to store all data in memory\n",
    "        - PyTorch Dataset classes use indexes to read elements\n",
    "        - You should provide a way for the __getitem__ method to access the image-label pair\n",
    "          through the index\n",
    "        - Labels should start from 0, so for Caltech you will have lables 0...100 (excluding the background class)\n",
    "        '''\n",
    "        \n",
    "    def __getitem__(self, index):\n",
    "        '''\n",
    "        __getitem__ should access an element through its index\n",
    "        Args:\n",
    "            index (int): Index\n",
    "\n",
    "        Returns:\n",
    "            tuple: (sample, target) where target is class_index of the target class.\n",
    "        '''\n",
    "\n",
    "        # Provide a way to access image and label via index\n",
    "        # Image should be a PIL Image\n",
    "        # label can be int\n",
    "        image, label = pil_loader(f\"Caltech101/101_ObjectCategories/{self.data[index]}\"), self.labels_dict[self.data[index].split(\"/\")[0]]\n",
    "\n",
    "        # Applies preprocessing when accessing the image\n",
    "        if self.transform is not None:\n",
    "            image = self.transform(image)\n",
    "\n",
    "        return image, label\n",
    "\n",
    "    def __len__(self):\n",
    "        '''\n",
    "        The __len__ method returns the length of the dataset\n",
    "        It is mandatory, as this is used by several other components\n",
    "        '''\n",
    "        length = len(self.data) # Provide a way to get the length (number of elements) of the dataset\n",
    "        return length"
   ]
  },
  {
   "cell_type": "code",
   "execution_count": null,
   "id": "f9b9bd428ab50ccf",
   "metadata": {
    "ExecuteTime": {
     "end_time": "2023-11-01T10:31:12.734137Z",
     "start_time": "2023-11-01T10:31:12.699189Z"
    },
    "collapsed": false
   },
   "outputs": [],
   "source": [
    "from sklearn.model_selection import train_test_split\n",
    "\n",
    "# Clone github repository with data\n",
    "import pathlib\n",
    "print(pathlib.Path().resolve())\n",
    "if not os.path.isdir('./Caltech101'):\n",
    "  !git clone https://github.com/MachineLearning2020/Homework2-Caltech101.git\n",
    "  !mv 'Homework2-Caltech101' 'Caltech101'\n",
    "\n",
    "DATA_DIR = 'Caltech101/101_ObjectCategories'\n",
    "\n",
    "# Prepare Pytorch train/test Datasets\n",
    "train_dataset = Caltech(DATA_DIR, split='train',  transform=train_transform)\n",
    "test_dataset = Caltech(DATA_DIR, split='test', transform=eval_transform)\n",
    "\n",
    "train_indexes, val_indexes = train_test_split(range(len(train_dataset)), train_size=0.75, random_state=42)\n",
    "\n",
    "# train_indexes = [] # split the indices for your train split\n",
    "# val_indexes = [] # split the indices for your val split\n",
    "\n",
    "val_dataset = Subset(train_dataset, val_indexes)\n",
    "train_dataset = Subset(train_dataset, train_indexes)\n",
    "\n",
    "# Check dataset sizes\n",
    "print('Train Dataset: {}'.format(len(train_dataset)))\n",
    "print('Valid Dataset: {}'.format(len(val_dataset)))\n",
    "print('Test Dataset: {}'.format(len(test_dataset)))"
   ]
  },
  {
   "cell_type": "markdown",
   "id": "a4b52d2bf44236ea",
   "metadata": {
    "collapsed": false
   },
   "source": [
    "**Prepare Dataloaders**"
   ]
  },
  {
   "cell_type": "code",
   "execution_count": null,
   "id": "7b68a3fa95a1c62d",
   "metadata": {
    "ExecuteTime": {
     "end_time": "2023-11-01T10:31:12.734238Z",
     "start_time": "2023-11-01T10:31:12.711365Z"
    },
    "collapsed": false
   },
   "outputs": [],
   "source": [
    "# Dataloaders iterate over pytorch datasets and transparently provide useful functions (e.g. parallelization and shuffling)\n",
    "train_dataloader = DataLoader(train_dataset, batch_size=BATCH_SIZE, shuffle=True, num_workers=0, drop_last=True)\n",
    "val_dataloader = DataLoader(val_dataset, batch_size=BATCH_SIZE, shuffle=False, num_workers=0)\n",
    "\n",
    "test_dataloader = DataLoader(test_dataset, batch_size=BATCH_SIZE, shuffle=False, num_workers=0)"
   ]
  },
  {
   "cell_type": "markdown",
   "id": "a00b38863b4f3415",
   "metadata": {
    "collapsed": false
   },
   "source": [
    "**Prepare Network**"
   ]
  },
  {
   "cell_type": "code",
   "execution_count": null,
   "id": "abbcf82773ae76df",
   "metadata": {
    "ExecuteTime": {
     "end_time": "2023-11-01T10:31:12.914254Z",
     "start_time": "2023-11-01T10:31:12.714511Z"
    },
    "collapsed": false
   },
   "outputs": [],
   "source": [
    "net = alexnet() # Loading AlexNet model\n",
    "\n",
    "# AlexNet has 1000 output neurons, corresponding to the 1000 ImageNet's classes\n",
    "# We need 101 outputs for Caltech-101\n",
    "net.classifier[6] = nn.Linear(4096, NUM_CLASSES) # nn.Linear in pytorch is a fully connected layer\n",
    "                                                 # The convolutional layer is nn.Conv2d\n",
    "\n",
    "# We just changed the last layer of AlexNet with a new fully connected layer with 101 outputs\n",
    "# It is strongly suggested to study torchvision.models.alexnet source code"
   ]
  },
  {
   "cell_type": "markdown",
   "id": "a135cc621018519c",
   "metadata": {
    "collapsed": false
   },
   "source": [
    "**Prepare Training**"
   ]
  },
  {
   "cell_type": "code",
   "execution_count": null,
   "id": "c971a4d0063b9a71",
   "metadata": {
    "ExecuteTime": {
     "end_time": "2023-11-01T10:31:12.918124Z",
     "start_time": "2023-11-01T10:31:12.915608Z"
    },
    "collapsed": false
   },
   "outputs": [],
   "source": [
    "# Define loss function\n",
    "criterion = nn.CrossEntropyLoss() # for classification, we use Cross Entropy\n",
    "\n",
    "# Choose parameters to optimize\n",
    "# To access a different set of parameters, you have to access submodules of AlexNet\n",
    "# (nn.Module objects, like AlexNet, implement the Composite Pattern)\n",
    "# e.g.: parameters of the fully connected layers: net.classifier.parameters()\n",
    "# e.g.: parameters of the convolutional layers: look at alexnet's source code ;)\n",
    "parameters_to_optimize = net.parameters() # In this case we optimize over all the parameters of AlexNet\n",
    "\n",
    "# Define optimizer\n",
    "# An optimizer updates the weights based on loss\n",
    "# We use SGD with momentum\n",
    "optimizer = optim.SGD(parameters_to_optimize, lr=LR, momentum=MOMENTUM, weight_decay=WEIGHT_DECAY)\n",
    "\n",
    "# Define scheduler\n",
    "# A scheduler dynamically changes learning rate\n",
    "# The most common schedule is the step(-down), which multiplies learning rate by gamma every STEP_SIZE epochs\n",
    "scheduler = optim.lr_scheduler.StepLR(optimizer, step_size=STEP_SIZE, gamma=GAMMA)\n",
    "print(len(train_dataloader))"
   ]
  },
  {
   "cell_type": "markdown",
   "id": "eb08c4da1d6f00d7",
   "metadata": {
    "collapsed": false
   },
   "source": [
    "**Train**"
   ]
  },
  {
   "cell_type": "code",
   "execution_count": null,
   "id": "bbbb2861aa214740",
   "metadata": {
    "ExecuteTime": {
     "end_time": "2023-11-01T10:35:32.254539Z",
     "start_time": "2023-11-01T10:31:12.920486Z"
    },
    "collapsed": false
   },
   "outputs": [],
   "source": [
    "# By default, everything is loaded to cpu\n",
    "net = net.to(DEVICE) # this will bring the network to GPU if DEVICE is cuda\n",
    "\n",
    "cudnn.benchmark # Calling this optimizes runtime\n",
    "\n",
    "current_step = 0\n",
    "# Start iterating over the epochs\n",
    "for epoch in range(NUM_EPOCHS):\n",
    "  print('Starting epoch {}/{}, LR = {}'.format(epoch+1, NUM_EPOCHS, scheduler.get_last_lr()))\n",
    "\n",
    "  # Iterate over the dataset\n",
    "  for images, labels in train_dataloader:\n",
    "    # Bring data over the device of choice\n",
    "    images = images.to(DEVICE)\n",
    "    labels = labels.to(DEVICE)\n",
    "\n",
    "    net.train() # Sets module in training mode\n",
    "\n",
    "    # PyTorch, by default, accumulates gradients after each backward pass\n",
    "    # We need to manually set the gradients to zero before starting a new iteration\n",
    "    optimizer.zero_grad() # Zero-ing the gradients\n",
    "\n",
    "    # Forward pass to the network\n",
    "    outputs = net(images)\n",
    "\n",
    "    # Compute loss based on output and ground truth\n",
    "    loss = criterion(outputs, labels)\n",
    "\n",
    "    # Log loss\n",
    "    if current_step % LOG_FREQUENCY == 0:\n",
    "      print('Step {}, Loss {}'.format(current_step, loss.item()))\n",
    "\n",
    "    # Compute gradients for each layer and update weights\n",
    "    loss.backward()  # backward pass: computes gradients\n",
    "    optimizer.step() # update weights based on accumulated gradients\n",
    "\n",
    "    current_step += 1\n",
    "\n",
    "  # Step the scheduler\n",
    "  scheduler.step()"
   ]
  },
  {
   "cell_type": "markdown",
   "id": "c97cd70d14bf0513",
   "metadata": {
    "collapsed": false
   },
   "source": [
    "**Validation**"
   ]
  },
  {
   "cell_type": "code",
   "execution_count": null,
   "id": "2fd09e71ac35121f",
   "metadata": {
    "ExecuteTime": {
     "end_time": "2023-11-01T10:35:35.981925Z",
     "start_time": "2023-11-01T10:35:32.256100Z"
    },
    "collapsed": false
   },
   "outputs": [],
   "source": [
    "net = net.to(DEVICE) # this will bring the network to GPU if DEVICE is cuda\n",
    "net.train(False) # Set Network to evaluation mode\n",
    "\n",
    "running_corrects = 0\n",
    "for images, labels in tqdm(val_dataloader):\n",
    "  images = images.to(DEVICE)\n",
    "  labels = labels.to(DEVICE)\n",
    "\n",
    "  # Forward Pass\n",
    "  outputs = net(images)\n",
    "\n",
    "  # Get predictions\n",
    "  _, preds = torch.max(outputs.data, 1)\n",
    "\n",
    "  # Update Corrects\n",
    "  running_corrects += torch.sum(preds == labels.data).data.item()\n",
    "\n",
    "# Calculate Accuracy\n",
    "accuracy = running_corrects / float(len(val_dataset))\n",
    "\n",
    "print('Validation Accuracy: {}'.format(accuracy))"
   ]
  },
  {
   "cell_type": "markdown",
   "id": "c4b12fce60d0c203",
   "metadata": {
    "collapsed": false
   },
   "source": [
    "**Test**"
   ]
  },
  {
   "cell_type": "code",
   "execution_count": null,
   "id": "e405ad8717185ac",
   "metadata": {
    "ExecuteTime": {
     "end_time": "2023-11-01T10:35:42.883441Z",
     "start_time": "2023-11-01T10:35:35.980605Z"
    },
    "collapsed": false
   },
   "outputs": [],
   "source": [
    "net = net.to(DEVICE) # this will bring the network to GPU if DEVICE is cuda\n",
    "net.train(False) # Set Network to evaluation mode\n",
    "\n",
    "running_corrects = 0\n",
    "for images, labels in tqdm(test_dataloader):\n",
    "  images = images.to(DEVICE)\n",
    "  labels = labels.to(DEVICE)\n",
    "\n",
    "  # Forward Pass\n",
    "  outputs = net(images)\n",
    "\n",
    "  # Get predictions\n",
    "  _, preds = torch.max(outputs.data, 1)\n",
    "\n",
    "  # Update Corrects\n",
    "  running_corrects += torch.sum(preds == labels.data).data.item()\n",
    "\n",
    "# Calculate Accuracy\n",
    "accuracy = running_corrects / float(len(test_dataset))\n",
    "\n",
    "print('Test Accuracy: {}'.format(accuracy))"
   ]
  }
 ],
 "metadata": {
  "kernelspec": {
   "display_name": "Python 3",
   "language": "python",
   "name": "python3"
  },
  "language_info": {
   "codemirror_mode": {
    "name": "ipython",
    "version": 3
   },
   "file_extension": ".py",
   "mimetype": "text/x-python",
   "name": "python",
   "nbconvert_exporter": "python",
   "pygments_lexer": "ipython3",
   "version": "3.10.13"
  }
 },
 "nbformat": 4,
 "nbformat_minor": 5
}
